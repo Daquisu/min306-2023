{
 "cells": [
  {
   "cell_type": "code",
   "execution_count": 1,
   "id": "cf001cdc-8951-49a4-aff1-b16101b75c04",
   "metadata": {},
   "outputs": [],
   "source": [
    "import requests\n",
    "from bs4 import BeautifulSoup"
   ]
  },
  {
   "cell_type": "code",
   "execution_count": 2,
   "id": "a7f8cbda-49b1-4b19-acd1-e74667dd5b6c",
   "metadata": {},
   "outputs": [],
   "source": [
    "base = \"https://paris.demosphere.net\""
   ]
  },
  {
   "cell_type": "code",
   "execution_count": 3,
   "id": "c35b00f2-b3bb-4fa5-9468-7772724fcfd4",
   "metadata": {},
   "outputs": [],
   "source": [
    "start = f\"{base}/?selectStartTime=1672527601&showArchiveLinks=1\""
   ]
  },
  {
   "cell_type": "code",
   "execution_count": 4,
   "id": "6393340b-08c4-4457-b96d-a423a2e2b4ba",
   "metadata": {},
   "outputs": [],
   "source": [
    "def get_months(page):\n",
    "    res = requests.get(page)\n",
    "    html = BeautifulSoup(res.text)\n",
    "\n",
    "    return [\n",
    "        a.get('href')\n",
    "        for a in html.find_all('a')\n",
    "        if\n",
    "            'selectStartTime' in str(a.get('href'))\n",
    "            and 'endTime' in str(a.get('href'))\n",
    "    ]"
   ]
  },
  {
   "cell_type": "code",
   "execution_count": 5,
   "id": "37868cee-2d90-44ff-844f-fcdbe982ef8b",
   "metadata": {},
   "outputs": [
    {
     "data": {
      "text/plain": [
       "192"
      ]
     },
     "execution_count": 5,
     "metadata": {},
     "output_type": "execute_result"
    }
   ],
   "source": [
    "months = get_months(start)\n",
    "\n",
    "len(months)"
   ]
  },
  {
   "cell_type": "code",
   "execution_count": 6,
   "id": "6ccde30d-3613-4f05-bc78-c0a97d4ea32f",
   "metadata": {},
   "outputs": [
    {
     "data": {
      "text/plain": [
       "222"
      ]
     },
     "execution_count": 6,
     "metadata": {},
     "output_type": "execute_result"
    }
   ],
   "source": [
    "def get_rv_links(page):\n",
    "    res = requests.get(page)\n",
    "    html = BeautifulSoup(res.text)\n",
    "    links = [ link.get('href') for link in html.find_all('a') if '/rv/' in str(link.get('href')) ]\n",
    "\n",
    "    return links\n",
    "\n",
    "links = get_rv_links(f'{base}{months[0]}')\n",
    "\n",
    "len(links)"
   ]
  },
  {
   "cell_type": "code",
   "execution_count": 7,
   "id": "1452d7db-0a80-49e0-85ad-873304da3543",
   "metadata": {},
   "outputs": [
    {
     "data": {
      "text/plain": [
       "<div class=\"stdHtmlContent published status-published\" id=\"event\">\n",
       "<div class=\"statusBar\"></div>\n",
       "<div class=\"eventHead\">\n",
       "<div id=\"miscEventInfo\">\n",
       "<div id=\"miscEventInfoLeft\">\n",
       "<span class=\"\" id=\"topics\">\n",
       "<span class=\"topicsLabel\">\n",
       "\t\t\t\t\tthème : \n",
       "\t\t\t\t</span>\n",
       "<span class=\"topicsList\">\n",
       "<a data-topic=\"248\" href=\"https://paris.demosphere.net/?selectTopic=248\">\n",
       "\t\t\t\t\t\t\técologie</a> </span>\n",
       "</span>\n",
       "</div>\n",
       "<div class=\"nb-boxes-4\" id=\"actionBoxWrapper\"><div id=\"actionBox\"><a class=\"actionBoxAction\" href=\"#comments\" id=\"commentLink\" onclick=\"document.getElementById('comments').style.display='block';dlib_comments.setup(true);\" rel=\"nofollow\" title=\"ajoutez une information complémentaire, ou un commentaire\"><span class=\"actionBoxIcon\"></span><span class=\"actionBoxLinkText\">Réagir (0)</span></a><a class=\"actionBoxAction\" href=\"https://paris.demosphere.net/rv/2570/send-by-email\" id=\"send-by-email-link\" rel=\"nofollow\" title=\"envoyer ce rdv à quelqu'un par mail\"><span class=\"actionBoxIcon\"></span><span class=\"actionBoxLinkText\">Envoyer</span></a><a class=\"actionBoxAction\" href=\"https://paris.demosphere.net/rv/2570/ical.ics\" id=\"iCalLink\" rel=\"nofollow\" title=\"importer ce rdv dans votre agenda\"><span class=\"actionBoxIcon\"></span><span class=\"actionBoxLinkText\">iCal</span></a><a class=\"actionBoxAction\" href=\"#\" id=\"demosShareLink\" onclick=\"return false;\" onmousedown=\"return shhare_link_popup(event,this);\" rel=\"nofollow\" title=\"partager ce rdv sur les réseaux sociaux\"><span class=\"actionBoxIcon\"></span><span class=\"actionBoxLinkText\">Partager</span></a><script type=\"text/javascript\">\n",
       "\t\t\t\t\tfunction shhare_link_popup(event,obj)\n",
       "\t\t\t\t\t{\n",
       "\t\t\t\t\t\tvar link=document.getElementById(\"demos-f-link\");\n",
       "\t\t\t\t\t\tif(link!==null){link.innerHTML=link.getAttribute(\"data-inner\");}\n",
       "\t\t\t\t\t\tlink=document.getElementById(\"demos-t-link\");\n",
       "\t\t\t\t\t\tif(link!==null){link.innerHTML=link.getAttribute(\"data-inner\");}\n",
       "\t\t\t\t\t\tvar popup=document.getElementById(\"demosShhareLinkPopup\");\n",
       "\t\t\t\t\t\tif(popup.style.display==\"block\"){popup.style.display=\"none\";}\n",
       "\t\t\t\t\t\telse\t\t\t\t\t\t\t{popup.style.display=\"block\";}\n",
       "\t\t\t\t\t\treturn false;\n",
       "\t\t\t\t\t}\n",
       "\t\t\t\t\t</script><div id=\"demosShhareLinkPopup\" style=\"display:none\"><a data-inner='&lt;img width=\"72\" height=\"20\" src=\"https://paris.demosphere.net/demosphere/css/images/shhare-t.png\" alt=\"\"/&gt;' href=\" https://twitter.com/share?url=https%3A%2F%2Fparis.demosphere.net%2Frv%2F2570&amp;text=sam.++3+mars+14h-+Rassemblement+V%C3%A9lorution++%3A+v%C3%A9los%2C+rollers%2C+fauteuils+et+pi%C3%A9tons.\" id=\"demos-t-link\"></a>\t\t\t\t\t\t \n",
       "\t\t\t\t\t\t<a data-inner='&lt;img width=\"53\" height=\"20\" src=\"https://paris.demosphere.net/demosphere/css/images/shhare-f.png\" alt=\"\"/&gt;' href=\" https://www.facebook.com/sharer.php?u=https%3A%2F%2Fparis.demosphere.net%2Frv%2F2570&amp;t=sam.++3+mars+14h%3A+Rassemblement+V%C3%A9lorution++%3A+v%C3%A9los%2C+rollers%2C+fauteuils+et+pi%C3%A9tons.\" id=\"demos-f-link\"></a>\t\t\t\t\t\t \n",
       "\t\t\t\t\t\t</div><!-- end demosShhareLinkPopup --></div><!-- end actionBox --> </div><!-- end actionBoxWrapper -->\n",
       "</div><!-- end miscEventInfo -->\n",
       "</div><!-- end eventHead -->\n",
       "<div id=\"eventMain\">\n",
       "<div id=\"dateWrap\">\n",
       "<h2 id=\"date\">\n",
       "<span id=\"dateContents\"><span class=\"date\" data-val=\"03/03/2007\">samedi  3 mars 2007</span><span class=\"time\" data-val=\"14:00\"> à 14h</span></span>\n",
       "</h2>\n",
       "</div><!-- end dateWrap -->\n",
       "<div class=\"place hasMapImage\" data-place-id=\"357\">\n",
       "<span class=\"placeTopLeft\"><span></span></span>\n",
       "<div class=\"place-inner\">\n",
       "<h3><a class=\"placeLabel\" href=\"https://paris.demosphere.net/lieu/357\">Lieu :</a>\n",
       "<a class=\"city\" href=\"https://paris.demosphere.net/?selectCityId=151\">Place du Châtelet</a>\n",
       "</h3>\n",
       "<p class=\"address-text\"><a href=\"https://paris.demosphere.net/lieu/357\" rel=\"nofollow\">Place du Châtelet<br/>\n",
       "Métro Châtelet</a></p>\n",
       "<p class=\"mapimage\">\n",
       "<a class=\"mapimage-link\" href=\"https://www.google.fr/maps/place/48.857547177393,2.3472981281723/@48.857547177393,2.3472981281723,15z\">\n",
       "<img alt=\"carte\" height=\"145\" src=\"https://paris.demosphere.net/files/maps/dmap_48.857547177393_2.3472981281723_15.png\" width=\"320\"/>\n",
       "</a>\n",
       "</p>\n",
       "<p class=\"place-links\">\n",
       "<a class=\"place-link\" href=\"https://paris.demosphere.net/lieu/357\" rel=\"nofollow\">\n",
       "\t\t\t\t\t133 rdv pour ce lieu</a>\n",
       "</p>\n",
       "</div></div><!-- end place -->\n",
       "<div id=\"htmlView\">\n",
       "<div class=\"textPart lastPart\" id=\"textPart0\"><h3 class=\"openingBlock\">\n",
       "  Vélorution d'Ile-de-France du 3 mars 2007\n",
       "</h3>\n",
       "<p class=\"demosphere-source-link-top\"><a href=\"https://paris.demosphere.net/rv/2570\">https://paris.demosphere.net/rv/2570</a></p><p>\n",
       "  La Vélorution partira de la place du Châtelet (Paris 1er) à 14h00 pour aller à la Défense, au pied de la tour Areva.\n",
       "</p>\n",
       "<p>\n",
       "  Un débat suivra la manifestation :\n",
       "</p>\n",
       "<h3>\n",
       "  Ni effet serre, ni EPR ?\n",
       "</h3>\n",
       "<p>\n",
       "  Les transports et l'habitat sont les deux principaux secteurs à l'origine de l'émission de gaz à effet de serre (GES). Néanmoins, dans une moindre mesure, la production d'énergie électrique (environ 20% de l'énergie finale en France) peut contribuer au réchauffement climatique en fonction de la source choisie : énergies fossiles, nucléaire ou énergies renouvelables. Les énergies renouvelables et l'énergie nucléaire émettent peu de GES. D'où la tendance, dans le pays traditionnellement nucléaire qu'est la France, à présenter le nucléaire comme une arme de lutte contre le réchauffement climatique et à soutenir le développement du programme EPR. C'est un des principaux arguments des pro-nucleaire pour développer ce concept de réacteur nucléaire de « 3ème génération ». Pour plus d'information sur ses atouts et inconvénients, on peut se reporter au <a href=\"http://www.areva.com/servlet/BlobProvider?blobcol=urluploadedfile&amp;blobheader=application%2Fpdf&amp;blobkey=id&amp;blobtable=Downloads&amp;blobwhere=1078343903252&amp;filename=DPEPR_2010_vf2.pdf&amp;csblobid=1033582133999\">dossier de presse d'AREVA</a>, et à une étude contradictoire du collectif associatif « <a href=\"http://www.sortirdunucleaire.org/index.php?menu=sinformer&amp;sousmenu=themas&amp;soussousmenu=epr3&amp;page=index\">sortir du nucléaire</a> ».\n",
       "</p>\n",
       "<p>\n",
       "  Le nucléaire est-il vraiment une solution contre les GES ? L'urgence de la lutte contre les GES nous oblige-t-elle à prendre les risques liés aux accidents potentiels, à la gestion des déchets, et à la prolifération (nucléaire militaire) ? Entre effet de serre et EPR, y a-t-il une troisième voie ? Certaines associations estiment qu'il est possible de sortir du nucléaire en investissant notamment l'argent de l'EPR dans les gisements d'économies d'énergie et le développement des énergies renouvelables. Elles rappellent que le coût du projet est important : 3,3 milliards d'euros.\n",
       "</p>\n",
       "<p>\n",
       "  A l'occasion de la mobilisation nationale contre le projet d'EPR, Vélorution propose d'ouvrir le débat et organise, à la fin de la mobilisation cycliste parisienne de mars 2007, une rencontre entre vélorutionnaires et militantEs anti-nucléaires.\n",
       "</p>\n",
       "<p>\n",
       "<a href=\"http://www.velorution.org/\">www.velorution.org</a><br/><br/></p>\n",
       "<p>\n",
       "<strong>RENDEZ-VOUS LE 1er SAMEDI DE CHAQUE MOIS À 14h00 PLACE DU CHÂTELET</strong>\n",
       "</p>\n",
       "<p>\n",
       "<a href=\"http://www.velorution.org/\"><img alt=\"Logo Vélorution\" height=\"75\" src=\"/demosphere/css/images/broken-image.png\" width=\"75\"/></a>\n",
       "</p>\n",
       "<h2>\n",
       "  FAITES UN CADEAU AUX GÉNÉRATIONS FUTURES : ABANDONNEZ VOTRE VOITURE.\n",
       "</h2>\n",
       "<p>\n",
       "  L'auto-moto à Paris bat tous les records ! 1e place toutes catégories pour l'occupation des sols, 1e source de bruit et de stress, 1e source de pollution et d'injures, et bien d'autres tristes trophées.\n",
       "</p>\n",
       "<p>\n",
       "<strong>Pourquoi</strong> déplacer 1300 kg pour transporter 70 kg (homme) ou 55 kg (dame) ? <strong>Pourquoi</strong> prendre un engin conçu pour 5 personnes rempli à 1,2 personnes ? <strong>Pourquoi</strong> ne voit-on pas d'embouteillages dans les pubs auto ? <strong>Pourquoi</strong> des pare-buffles quand l'animal le plus dangereux à Paris est le conducteur lui-même ? <strong>Pourquoi</strong> ne pas faire du vélo en dehors du dimanche ? Halte à la schizophrénie automobile ! Sortir du piège auto-moto demande une volonté de tous et des élus d'abord pour offrir à chacun une chance de faire du vélo hors des salles de <em>fitness</em>.\n",
       "</p>\n",
       "<p>\n",
       "  LE COLLECTIF VÉLORUTION DEMANDE DONC URGEMMENT :\n",
       "</p>\n",
       "<ul><li>l'abolition des privilèges injustement accordés à la bagnole, qui envahit l'espace visuel, sonore, olfactif jusqu'au fond de nos bronches ;\n",
       "  </li>\n",
       "<li>la restitution des espaces urbains aux piétons, personnes à mobilité réduite, rollers, skaters, cyclistes, transports en commun !\n",
       "  </li>\n",
       "<li>le renforcement du réseau cyclable : voies Paris-Banlieue, franchissement des places, généralisation des contresens cyclables ;\n",
       "  </li>\n",
       "<li>la gratuité des transports en commun lors des pics de pollution ;\n",
       "  </li>\n",
       "<li>la mise en place d'un «réseau vert» de rues reliées entre elles (à commencer par un axe nord-sud et un est-ouest dans chaque arrondissement) réservées aux vélos, piétons et sans-moteur ;\n",
       "  </li>\n",
       "<li>la fin de l'intolérable tolérance envers les véhicules à moteur ne respectant pas les voies de bus, les trottoirs, les passages piétons, les bandes cyclables, la vie quoi.\n",
       "  </li>\n",
       "</ul><p>\n",
       "<strong>L'auto-moto n'est pas une fatalité,</strong> c'est un mode de pensée qui asphyxie nos villes et nos vies. Par nos comportements, nos choix, il nous appartient de nous libérer de la tyrannie auto-moto, pour nous, pour le futur. <strong>Vélorution !</strong>\n",
       "</p>\n",
       "<p>\n",
       "<br/><br/><a href=\"http://www.velorution.org/\">www.velorution.org</a>\n",
       "</p>\n",
       "<p class=\"\">\n",
       "<img alt=\"\" src=\"//linkalert/skin/none-icon.png\"/></p><p class=\"closingBlock demosphere-sources\"><span class=\"demosphere-source-link\">Lien : <a href=\"https://paris.demosphere.net/rv/2570\">https://paris.demosphere.net/rv/2570</a><br/></span></p></div>\n",
       "<div id=\"text-image-zoom\" style=\"display:none\">agrandir</div>\n",
       "<div id=\"text-image-link\" style=\"display:none\">lien</div>\n",
       "<div id=\"text-image-zoom-title\" style=\"display:none\">cliquer pour agrandir l'image</div>\n",
       "<div id=\"text-image-zoom-popup-close\" style=\"display:none\">cliquer pour fermer l'image</div> </div><!-- end htmlView -->\n",
       "</div><!-- end eventMain -->\n",
       "<script type=\"application/ld+json\">\n",
       "\t{\"@context\":\"http:\\/\\/www.schema.org\",\"@type\":\"Event\",\"name\":\"Rassemblement V\\u00e9lorution  : v\\u00e9los, rollers, fauteuils et pi\\u00e9tons.\",\"url\":\"https:\\/\\/paris.demosphere.net\\/rv\\/2570\",\"startDate\":\"2007-03-03T14:00\",\"endDate\":\"2007-03-03\",\"location\":{\"@type\":\"Place\",\"name\":\"Place du Ch\\u00e2telet, Place du Ch\\u00e2telet\",\"url\":\"https:\\/\\/paris.demosphere.net\\/lieu\\/357\",\"address\":{\"@type\":\"PostalAddress\",\"addressLocality\":\"Place du Ch\\u00e2telet\",\"streetAddress\":\"Place du Ch\\u00e2telet\\nM\\u00e9tro Ch\\u00e2telet\"},\"geo\":{\"@type\":\"GeoCoordinates\",\"latitude\":48.857547177393,\"longitude\":2.3472981281723}},\"description\":\"V\\u00e9lorution d\\u0027Ile-de-France du 3 mars 2007\\n\\nLa V\\u00e9lorution partira de la place du Ch\\u00e2telet (Paris 1er) \\u00e0 14h00 pour aller \\u00e0 la D\\u00e9fense, au pied de la tour Areva.\\n\\nUn d\\u00e9bat suivra la manifestation :\\n\\nNi effet serre, ni EPR ?\\n\\nLes transports et l\\u0027habitat sont les deux principaux secteurs \\u00e0 l\\u0027origine de l\\u0027\\u00e9mission de gaz \\u00e0 effet de serre (GES). N\\u00e9anmoins, dans une moindre mesure, la production d\\u0027\\u00e9nergie \\u00e9lectrique (environ 20% de l\\u0027\\u00e9nergie finale en France) peut contribuer au r\\u00e9chauffement climatique en fonction de la source choisie : \\u00e9nergies fossiles, nucl\\u00e9aire ou \\u00e9nergies renouvelables. Les \\u00e9nergies renouvelables et l\\u0027\\u00e9nergie nucl\\u00e9aire \\u00e9mettent peu de GES. D\\u0027o\\u00f9 la tendance, dans le pays traditionnellement nucl\\u00e9aire qu\\u0027est la France, \\u00e0 pr\\u00e9senter le nucl\\u00e9aire comme une arme de lutte contre le r\\u00e9chauffement climatique et \\u00e0 soutenir le d\\u00e9veloppement du programme EPR. C\\u0027est un des principaux arguments des pro-nucleaire pour d\\u00e9velopper ce concept de r\\u00e9acteur nucl\\u00e9aire de \\u00ab 3\\u00e8me g\\u00e9n\\u00e9ration \\u00bb. P\\u2026\"}</script>\n",
       "</div>"
      ]
     },
     "execution_count": 7,
     "metadata": {},
     "output_type": "execute_result"
    }
   ],
   "source": [
    "def get_rv_content(page):\n",
    "    html = BeautifulSoup(requests.get(page).text)\n",
    "    return html.find(\"div\", {\"id\": \"event\"})\n",
    "\n",
    "get_rv_content(f'{base}{links[0]}')"
   ]
  },
  {
   "cell_type": "code",
   "execution_count": null,
   "id": "448418c9-146f-48bf-8502-1d66af628648",
   "metadata": {},
   "outputs": [],
   "source": []
  }
 ],
 "metadata": {
  "jupytext": {
   "formats": "ipynb,auto:percent"
  },
  "kernelspec": {
   "display_name": "Python 3 (ipykernel)",
   "language": "python",
   "name": "python3"
  },
  "language_info": {
   "codemirror_mode": {
    "name": "ipython",
    "version": 3
   },
   "file_extension": ".py",
   "mimetype": "text/x-python",
   "name": "python",
   "nbconvert_exporter": "python",
   "pygments_lexer": "ipython3",
   "version": "3.9.16"
  }
 },
 "nbformat": 4,
 "nbformat_minor": 5
}
